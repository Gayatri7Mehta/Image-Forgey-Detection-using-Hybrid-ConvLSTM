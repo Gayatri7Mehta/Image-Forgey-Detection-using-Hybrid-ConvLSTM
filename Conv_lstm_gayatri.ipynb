{
 "cells": [
  {
   "cell_type": "code",
   "execution_count": null,
   "metadata": {
    "id": "OQJp4lTdkMBr"
   },
   "outputs": [],
   "source": [
    "import numpy as np\n",
    "import os\n",
    "import tensorflow as tf\n",
    "from tensorflow.keras.models import Sequential\n",
    "from tensorflow.keras.layers import Conv2D, MaxPooling2D, ConvLSTM2D, GlobalAveragePooling2D, Dense\n",
    "from tensorflow.keras.optimizers import Adam\n",
    "from tensorflow.keras.losses import binary_crossentropy\n",
    "from sklearn.model_selection import train_test_split\n",
    "from tensorflow.keras.preprocessing.image import img_to_array, load_img\n",
    "from sklearn.metrics import confusion_matrix, classification_report\n",
    "import matplotlib.pyplot as plt\n",
    "import seaborn as sns\n",
    "from tqdm import tqdm"
   ]
  },
  {
   "cell_type": "code",
   "execution_count": null,
   "metadata": {
    "id": "s8fUV-knkUrC"
   },
   "outputs": [],
   "source": [
    "dataset_path = '/content/drive/MyDrive/CoMoFoD_small_v2'\n",
    "au_dir = os.path.join(dataset_path, 'Au')\n",
    "tp_dir = os.path.join(dataset_path, 'Tp')\n"
   ]
  },
  {
   "cell_type": "code",
   "execution_count": null,
   "metadata": {
    "id": "w2TuDc_3kVZC"
   },
   "outputs": [],
   "source": [
    "def load_images(directory, label):\n",
    "    images = []\n",
    "    labels = []\n",
    "\n",
    "\n",
    "    for filename in tqdm(os.listdir(directory)):\n",
    "        img_path = os.path.join(directory, filename)\n",
    "        img = load_img(img_path, target_size=(128, 128))\n",
    "        img = img_to_array(img) / 255.0\n",
    "        images.append(img)\n",
    "        labels.append(label)\n",
    "\n",
    "    return images, labels\n"
   ]
  },
  {
   "cell_type": "code",
   "execution_count": null,
   "metadata": {
    "colab": {
     "base_uri": "https://localhost:8080/"
    },
    "id": "BtkD2LjBkbx6",
    "outputId": "82b90c16-b32c-4ebb-c67b-166c8761cde9"
   },
   "outputs": [],
   "source": [
    "authentic_images, authentic_labels = load_images(au_dir, 0)\n",
    "tampered_images, tampered_labels = load_images(tp_dir, 1)"
   ]
  },
  {
   "cell_type": "code",
   "execution_count": null,
   "metadata": {
    "id": "X6EvVbUtkhi0"
   },
   "outputs": [],
   "source": [
    "X = np.concatenate((authentic_images, tampered_images), axis=0)\n",
    "y = np.concatenate((authentic_labels, tampered_labels), axis=0)\n",
    "\n",
    "X_train, X_val, y_train, y_val = train_test_split(X, y, test_size=0.2, random_state=42)\n",
    "\n",
    "X_train = X_train.reshape(-1, 1, 128, 128, 3)\n",
    "X_val = X_val.reshape(-1, 1, 128, 128, 3)"
   ]
  },
  {
   "cell_type": "code",
   "execution_count": null,
   "metadata": {
    "colab": {
     "base_uri": "https://localhost:8080/"
    },
    "id": "a02jEyhikrFF",
    "outputId": "784c414e-c107-48fe-ed37-5c473d6f69a0"
   },
   "outputs": [],
   "source": [
    "model3 = Sequential([\n",
    "    # ConvLSTM layer\n",
    "    ConvLSTM2D(filters=16, kernel_size=(3, 3), padding='same', return_sequences=False, input_shape=(1, 128, 128, 3)),\n",
    "\n",
    "    # CNV layer with 32 filters and max pooling\n",
    "    Conv2D(filters=32, kernel_size=(3, 3), padding='same', activation='relu'),\n",
    "    MaxPooling2D(pool_size=(2, 2)),\n",
    "\n",
    "    # CNV layer with 64 filters and max pooling\n",
    "    Conv2D(filters=64, kernel_size=(3, 3), padding='same', activation='relu'),\n",
    "    MaxPooling2D(pool_size=(2, 2)),\n",
    "\n",
    "    # CNV layer with 128 filters and max pooling\n",
    "    Conv2D(filters=128, kernel_size=(3, 3), padding='same', activation='relu'),\n",
    "    MaxPooling2D(pool_size=(2, 2)),\n",
    "\n",
    "    # Global average pooling and fully connected layer\n",
    "    GlobalAveragePooling2D(),\n",
    "    Dense(units=1, activation='sigmoid')\n",
    "])\n",
    "model3.compile(optimizer=Adam(learning_rate=0.001), loss='binary_crossentropy', metrics=['accuracy'])\n",
    "model3.summary()\n"
   ]
  },
  {
   "cell_type": "code",
   "execution_count": null,
   "metadata": {
    "colab": {
     "base_uri": "https://localhost:8080/"
    },
    "id": "Ldvt2m3Jkxg5",
    "outputId": "abc4e03a-ceca-4310-a2da-10eed9924955"
   },
   "outputs": [],
   "source": [
    "model3.fit(X_train, y_train, epochs=50, batch_size=32, validation_data=(X_val, y_val))\n"
   ]
  },
  {
   "cell_type": "code",
   "execution_count": null,
   "metadata": {
    "colab": {
     "base_uri": "https://localhost:8080/"
    },
    "id": "PP6dbl62k3kv",
    "outputId": "c222ab79-8932-485d-cd8f-724e5351ae42"
   },
   "outputs": [],
   "source": [
    "loss, accuracy = model3.evaluate(X_val, y_val)\n",
    "print(f'Validation loss: {loss:.4f}, accuracy: {accuracy:.4f}')\n",
    "\n",
    "y_pred_prob = model3.predict(X_val)\n",
    "y_pred = (y_pred_prob > 0.5).astype(int).flatten()"
   ]
  },
  {
   "cell_type": "code",
   "execution_count": null,
   "metadata": {
    "colab": {
     "base_uri": "https://localhost:8080/",
     "height": 914
    },
    "id": "vbVTv8jrk4SX",
    "outputId": "21614bd0-e2d7-4e25-d9b5-a2d9f2192dae"
   },
   "outputs": [],
   "source": [
    "cm = confusion_matrix(y_val, y_pred)\n",
    "print('Confusion Matrix:')\n",
    "print(cm)\n",
    "plt.figure(figsize=(8, 6))\n",
    "sns.heatmap(cm, annot=True, fmt='d', cmap='Blues', xticklabels=['Authentic', 'Tampered'], yticklabels=['Authentic', 'Tampered'])\n",
    "plt.xlabel('Predicted')\n",
    "plt.ylabel('Actual')\n",
    "plt.title('Confusion Matrix')\n",
    "plt.show()\n",
    "\n",
    "\n",
    "print('Classification Report:')\n",
    "print(classification_report(y_val, y_pred, target_names=['Authentic', 'Tampered']))\n"
   ]
  },
  {
   "cell_type": "code",
   "execution_count": null,
   "metadata": {
    "colab": {
     "base_uri": "https://localhost:8080/",
     "height": 876
    },
    "id": "r94W5W8Q7082",
    "outputId": "49227fd8-6900-4a65-e2a2-a2c132adec42"
   },
   "outputs": [],
   "source": [
    "test_dataset_path = '/content/drive/MyDrive/MISD/MISD_test'\n",
    "authentic_test_dir = os.path.join(test_dataset_path, 'Au')\n",
    "tampered_test_dir = os.path.join(test_dataset_path, 'Tp')\n",
    "\n",
    "def load_images(directory, label):\n",
    "    images = []\n",
    "    labels = []\n",
    "\n",
    "\n",
    "    for filename in tqdm(os.listdir(directory)):\n",
    "        img_path = os.path.join(directory, filename)\n",
    "        img = load_img(img_path, target_size=(128, 128))\n",
    "        img = img_to_array(img) / 255.0\n",
    "        images.append(img)\n",
    "        labels.append(label)\n",
    "\n",
    "    return images, labels\n",
    "\n",
    "authentic_test_images, authentic_test_labels = load_images(authentic_test_dir, 0)\n",
    "tampered_test_images, tampered_test_labels = load_images(tampered_test_dir, 1)\n",
    "\n",
    "X_test = np.concatenate((authentic_test_images, tampered_test_images), axis=0)\n",
    "y_test = np.concatenate((authentic_test_labels, tampered_test_labels), axis=0)\n",
    "\n",
    "X_test = X_test.reshape(-1, 1, 128, 128, 3)\n",
    "\n",
    "\n",
    "loss, accuracy = model3.evaluate(X_test, y_test)\n",
    "print(f'Test loss: {loss:.4f}, accuracy: {accuracy:.4f}')\n",
    "\n",
    "\n",
    "y_test_pred_prob = model3.predict(X_test)\n",
    "y_test_pred = (y_test_pred_prob > 0.5).astype(int).flatten()\n",
    "\n",
    "\n",
    "cm_test = confusion_matrix(y_test, y_test_pred)\n",
    "print('Test Confusion Matrix:')\n",
    "print(cm_test)\n",
    "\n",
    "\n",
    "plt.figure(figsize=(8, 6))\n",
    "sns.heatmap(cm_test, annot=True, fmt='d', cmap='Blues', xticklabels=['Authentic', 'Tampered'], yticklabels=['Authentic', 'Tampered'])\n",
    "plt.xlabel('Predicted')\n",
    "plt.ylabel('Actual')\n",
    "plt.title('Test Confusion Matrix')\n",
    "plt.show()\n",
    "\n",
    "\n",
    "print('Test Classification Report:')\n",
    "print(classification_report(y_test, y_test_pred, target_names=['Authentic', 'Tampered']))"
   ]
  }
 ],
 "metadata": {
  "accelerator": "GPU",
  "colab": {
   "gpuType": "T4",
   "provenance": []
  },
  "kernelspec": {
   "display_name": "Python 3",
   "name": "python3"
  },
  "language_info": {
   "name": "python"
  }
 },
 "nbformat": 4,
 "nbformat_minor": 0
}
